{
 "cells": [
  {
   "cell_type": "markdown",
   "metadata": {},
   "source": [
    "<center>\n",
    "    <img src=\"https://cf-courses-data.s3.us.cloud-object-storage.appdomain.cloud/IBMDeveloperSkillsNetwork-DS0105EN-SkillsNetwork/labs/Module2/images/SN_web_lightmode.png\" width=\"300\" alt=\"cognitiveclass.ai logo\">\n",
    "</center>\n"
   ]
  },
  {
   "cell_type": "markdown",
   "metadata": {},
   "source": [
    "#### Add your code below following the instructions given in the course\n"
   ]
  },
  {
   "cell_type": "markdown",
   "metadata": {},
   "source": [
    "# Data Science Tools and Ecosystem"
   ]
  },
  {
   "cell_type": "markdown",
   "metadata": {},
   "source": [
    "In this notebook, Data Science Tools and Ecosystem are summarized."
   ]
  },
  {
   "cell_type": "markdown",
   "metadata": {},
   "source": [
    "**Objectives:**\n",
    "\n",
    "- List popular languages for Data Science.\n",
    "- Highlight commonly used libraries in Data Science.\n",
    "- Introduce popular Data Science tools.\n",
    "- Provide examples of evaluating arithmetic expressions in Python.\n",
    "- Illustrate a simple arithmetic expression and unit conversion in Python."
   ]
  },
  {
   "cell_type": "markdown",
   "metadata": {},
   "source": [
    "## Author\n",
    "\n",
    "Dr. Hiram Souza Fernandes"
   ]
  },
  {
   "cell_type": "markdown",
   "metadata": {},
   "source": [
    "### Some of the popular languages that Data Scientists use are:\n",
    "\n",
    "\n",
    "1. **Python**: Python is by far the most widely used language in the field of data science. It offers a vast ecosystem of libraries and tools specifically tailored for data analysis, machine learning, and visualization. Libraries like NumPy, Pandas, Scikit-learn, TensorFlow, and PyTorch are extensively used for various data science tasks.\n",
    "\n",
    "2. **R**: R is another popular language among data scientists, particularly in academia and research. It provides comprehensive packages for statistical analysis, data manipulation, and visualization. R's ggplot2 library is renowned for its powerful and customizable plotting capabilities. Many statisticians and researchers prefer R for its robustness in statistical modeling and analysis.\n",
    "\n",
    "3. **SQL** (Structured Query Language): SQL is essential for data manipulation and querying in relational databases, which are prevalent in data science workflows. While not a general-purpose programming language like Python or R, SQL is indispensable for extracting, manipulating, and analyzing data stored in databases. Proficiency in SQL is highly valued in data science roles, especially those involving working with large datasets."
   ]
  },
  {
   "cell_type": "markdown",
   "metadata": {},
   "source": [
    "### Some of the commonly used libraries used by Data Scientists include:\n",
    "\n",
    "1. **NumPy**: NumPy is a fundamental library for numerical computing in Python. It provides support for multi-dimensional arrays and matrices, along with a collection of mathematical functions to operate on these arrays efficiently. NumPy is extensively used in data manipulation, linear algebra, statistics, and other numerical computations.\n",
    "\n",
    "2. **Pandas**: Pandas is a powerful data manipulation and analysis library for Python. It offers easy-to-use data structures like DataFrame and Series, which enable users to efficiently manipulate and analyze structured data. Pandas provides functionalities for data cleaning, transformation, aggregation, and visualization, making it indispensable for data wrangling tasks in data science projects.\n",
    "\n",
    "3. **Matplotlib**: Matplotlib is a widely used plotting library in Python for creating static, interactive, and publication-quality visualizations. It offers a comprehensive set of plotting functions to generate a wide variety of plots, including line plots, scatter plots, bar plots, histograms, and more. Matplotlib is highly customizable, allowing users to fine-tune every aspect of their plots to meet specific requirements."
   ]
  },
  {
   "cell_type": "markdown",
   "metadata": {},
   "source": [
    "| Data Science Tools |\n",
    "|:-------------------|\n",
    "| Jupyter Notebook   |\n",
    "| RStudio            |\n",
    "| VS Code            |"
   ]
  },
  {
   "cell_type": "markdown",
   "metadata": {},
   "source": [
    "### Examples of Evaluating Arithmetic Expressions in Python\n",
    "\n",
    "Below are a few examples of evaluating arithmetic expressions in Python:\n",
    "\n",
    "1. **Addition:**  \n",
    "```python\n",
    "   result = 5 + 3\n",
    "   print(\"5 + 3 =\", result)  # Output: 5 + 3 = 8\n",
    "```\n",
    "\n",
    "\n",
    "2. **Subtraction:**\n",
    "```python\n",
    "   result = 7 - 4\n",
    "   print(\"7 - 4 =\", result)  # Output: 7 - 4 = 3\n",
    "```\n",
    "\n",
    "\n",
    "3. **Multiplication:**\n",
    "```python\n",
    "   result = 6 * 2\n",
    "   print(\"6 * 2 =\", result)  # Output: 6 * 2 = 12\n",
    "```\n",
    "\n",
    "\n",
    "4. **Division:**\n",
    "```python\n",
    "   result = 10 / 2\n",
    "   print(\"10 / 2 =\", result)  # Output: 10 / 2 = 5.0\n",
    "```\n",
    "\n",
    "\n",
    "These examples demonstrate basic arithmetic operations in Python."
   ]
  },
  {
   "cell_type": "code",
   "execution_count": 1,
   "metadata": {},
   "outputs": [
    {
     "name": "stdout",
     "output_type": "stream",
     "text": [
      "17\n"
     ]
    }
   ],
   "source": [
    "# This a simple arithmetic expression to mutiply then add integers.\n",
    "\n",
    "operation = (3 * 4) + 5\n",
    "print(operation)"
   ]
  },
  {
   "cell_type": "code",
   "execution_count": 2,
   "metadata": {},
   "outputs": [
    {
     "name": "stdout",
     "output_type": "stream",
     "text": [
      "3.3333333333333335\n"
     ]
    }
   ],
   "source": [
    "# Convert 200 minutes into hours\n",
    "\n",
    "minutes = 200\n",
    "hours = minutes / 60\n",
    "print(hours)"
   ]
  }
 ],
 "metadata": {
  "kernelspec": {
   "display_name": "Python 3 (ipykernel)",
   "language": "python",
   "name": "python3"
  },
  "language_info": {
   "codemirror_mode": {
    "name": "ipython",
    "version": 3
   },
   "file_extension": ".py",
   "mimetype": "text/x-python",
   "name": "python",
   "nbconvert_exporter": "python",
   "pygments_lexer": "ipython3",
   "version": "3.11.5"
  }
 },
 "nbformat": 4,
 "nbformat_minor": 4
}
